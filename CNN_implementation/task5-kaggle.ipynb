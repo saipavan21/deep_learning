{
 "cells": [
  {
   "cell_type": "markdown",
   "metadata": {},
   "source": [
    "# ECBM E4040 - Assignment 2- Task 5: Kaggle Open-ended Competition\n",
    "\n",
    "Kaggle is a platform for predictive modelling and analytics competitions in which companies and researchers post data and statisticians and data miners compete to produce the best models for predicting and describing the data.\n",
    "\n",
    "If you don't have a Kaggle account, feel free to join at [www.kaggle.com](https://www.kaggle.com). To let the TAs do the grading more conveniently, please use Lionmail to join Kaggle and use UNI as your username.\n",
    "\n",
    "Visit the website for this competition to join: \n",
    "[https://www.kaggle.com/t/8dd419892b1c49a3afb0cea385a7e677](https://www.kaggle.com/t/8dd419892b1c49a3afb0cea385a7e677)\n",
    "\n",
    "Details about this in-class competition is shown on the website above. Please read carefully.\n",
    "\n",
    "<span style=\"color:red\">__TODO__:</span>\n",
    "1. Train a custom model for the bottle dataset classification problem. You are free to use any methods taught in the class or found by yourself on the Internet (ALWAYS provide reference to the source). General training methods include:\n",
    "    * Dropout\n",
    "    * Batch normalization\n",
    "    * Early stopping\n",
    "    * l1-norm & l2-norm penalization\n",
    "2. You'll be given the test set to generate your predictions (70% public + 30% private, but you don't know which ones are public/private). Achieve 70% accuracy on the public test set. The accuracy will be shown on the public leaderboard once you submit your prediction .csv file. \n",
    "3. (A) Report your results on the Kaggle, for comparison with other students' optimization results (you should do this several times). (C) Save your best model, using BitBucket, at the same time when you (B) submit the homework files into Courseworks. See instructions below. \n",
    "\n",
    "__Hint__: You can start from what you implemented in task 4. Another classic classification model named 'VGG16' can also be easily implemented."
   ]
  },
  {
   "cell_type": "markdown",
   "metadata": {},
   "source": [
    "## HW Submission Details:\n",
    "There are three components to reporting the results of this task: \n",
    "\n",
    "**(A) Submission (possible several) of the .csv prediction file throught the Kaggle platform;**. You should start doing this VARY early, so that students can compare their work as they are making progress with model optimization.\n",
    "\n",
    "**(B) Editing and submitting the content of this Jupyter notebook, through Courseworks; **\n",
    "(i) The code for your CNN model and for the training function. The code should be stored in __./ecbm4040/neuralnets/kaggle.py__;\n",
    "(ii) Print out your training process and accuracy __within this notebook__;\n",
    "\n",
    "**(C) Submitting your best CNN model through instructor-owned private BitBucket repo.**\n",
    "\n",
    "**Description of (C):** \n",
    "For this task, you will be utilizing bitbucket to save your model for submission. Bitbucket provides Git code managment. For those who are not familiar with git operations, please check [Learn Git with Bitbucket Cloud](https://www.atlassian.com/git/tutorials/learn-git-with-bitbucket-cloud) as reference.\n",
    "**TAs will create a private Bitbucket repository for each student, with the write access. This repo will be owned by the instructors. Make sure to properly submit your model to that exact repository (submissions to your own private repository will not count)** Students need to populate the following file to provide instructors with bitbucket account information: https://docs.google.com/spreadsheets/d/1_7cZjyr34I2y-AD_0N5UaJ3ZnqdhYcvrdoTsYvOSd-g/edit#gid=0.\n",
    "\n",
    "<span style=\"color:red\">__Submission content:__ :</span>\n",
    "(i) Upload your best model with all the data output (for example, __MODEL.data-00000-of-00001, MODEL.meta, MODEL.index__) into the  BitBucket. Store your model in the folder named \"__KaggleModel__\" within the BitBucket repository. \n",
    "Remember to delete any intermediate results, **we only want your best model. Do not upload any data files**. The instructors will rerun the uploaded best model and verify against the score which you reported on the Kaggle.\n",
    "\n"
   ]
  },
  {
   "cell_type": "markdown",
   "metadata": {},
   "source": [
    "## Train your model here"
   ]
  },
  {
   "cell_type": "code",
   "execution_count": 1,
   "metadata": {},
   "outputs": [],
   "source": [
    "# YOUR CODE HERE\n",
    "import numpy as np\n",
    "import tensorflow as tf\n",
    "from PIL import Image\n",
    "import os\n",
    "from scipy.misc import imresize\n",
    "\n",
    "\n",
    "train_path = os.getcwd() + '/train_128'\n",
    "test_path = os.getcwd() + '/test_128'"
   ]
  },
  {
   "cell_type": "code",
   "execution_count": 1,
   "metadata": {},
   "outputs": [],
   "source": [
    "y_train = []\n",
    "x_train = []\n",
    "for folder in os.listdir(train_path):\n",
    "    train_sub_path = train_path + '/' + folder\n",
    "    y_value = int(folder)\n",
    "    for file in os.listdir(train_sub_path):\n",
    "        file_path = train_sub_path + '/' + file\n",
    "        img = Image.open(file_path)\n",
    "\n",
    "        x_train.append(imresize(np.array(img), (32,32,3)))\n",
    "        #x_train.append(np.array(img))\n",
    "        y_train.append(y_value)\n",
    "    \n",
    "x_train = np.array(x_train)\n",
    "y_train = np.array(y_train)"
   ]
  },
  {
   "cell_type": "code",
   "execution_count": 2,
   "metadata": {},
   "outputs": [],
   "source": [
    "num_train = 13500\n",
    "rand_ind = np.random.choice(x_train.shape[0], num_train, replace=False)\n",
    "x_train_rn = x_train[rand_ind]\n",
    "y_train_rn = y_train[rand_ind]\n",
    "non_rand = np.array(list(set(range(x_train.shape[0]))- set(rand_ind)))\n",
    "x_val_rn = x_train[non_rand]\n",
    "y_val_rn = y_train[non_rand]"
   ]
  },
  {
   "cell_type": "code",
   "execution_count": 3,
   "metadata": {
    "scrolled": true
   },
   "outputs": [
    {
     "name": "stdout",
     "output_type": "stream",
     "text": [
      "Building my LeNet. Parameters: \n",
      "conv_featmap=[96, 64]\n",
      "fc_units=[500, 500]\n",
      "conv_kernel_size=[3, 3]\n",
      "pooling_size=[2, 2]\n",
      "l2_norm=0.0001\n",
      "seed=235\n",
      "learning_rate=0.001\n",
      "number of batches for training: 135\n",
      "epoch 1 \n",
      "Best validation accuracy! iteration:100 accuracy: 75.66666666666667%\n",
      "epoch 2 \n",
      "Best validation accuracy! iteration:200 accuracy: 79.2%\n",
      "epoch 3 \n",
      "Best validation accuracy! iteration:300 accuracy: 80.6%\n",
      "Best validation accuracy! iteration:400 accuracy: 83.0%\n",
      "epoch 4 \n",
      "epoch 5 \n",
      "epoch 6 \n",
      "epoch 7 \n",
      "epoch 8 \n",
      "epoch 9 \n",
      "Best validation accuracy! iteration:1100 accuracy: 84.06666666666666%\n",
      "Best validation accuracy! iteration:1200 accuracy: 84.2%\n",
      "epoch 10 \n",
      "Best validation accuracy! iteration:1300 accuracy: 84.66666666666667%\n",
      "Traning ends. The best valid accuracy is 84.66666666666667. Model named lenet_1509674848.\n"
     ]
    }
   ],
   "source": [
    "from ecbm4040.neuralnets.kaggle import kaggle_training\n",
    "tf.reset_default_graph()\n",
    "kaggle_training(x_train_rn, y_train_rn, x_val_rn, y_val_rn, \n",
    "         conv_featmap=[96,64],\n",
    "         fc_units=[500, 500],\n",
    "         conv_kernel_size=[3,3],\n",
    "         pooling_size=[2,2],\n",
    "         l2_norm=0.0001,\n",
    "         seed=235,\n",
    "         learning_rate=1e-3,\n",
    "         epoch=10,\n",
    "         batch_size=100,\n",
    "         keep_prob=1,\n",
    "         verbose=False,\n",
    "         pre_trained_model=None)"
   ]
  },
  {
   "cell_type": "markdown",
   "metadata": {},
   "source": [
    "## Save your best model"
   ]
  },
  {
   "cell_type": "code",
   "execution_count": 9,
   "metadata": {},
   "outputs": [],
   "source": [
    "import pandas as pd\n",
    "x_test_dic = {}\n",
    "for file in os.listdir(test_path):\n",
    "    file_path = test_path + '/' + file\n",
    "    file_name = int(file.split('.')[0])\n",
    "    img = Image.open(file_path)\n",
    "    img_re = imresize(np.array(img), (32,32,3))\n",
    "    x_test_dic[file_name] = img_re\n",
    "\n",
    "x_test_df = pd.Series(x_test_dic)\n",
    "    "
   ]
  },
  {
   "cell_type": "code",
   "execution_count": 18,
   "metadata": {},
   "outputs": [],
   "source": [
    "x_test = np.array(list(x_test_df))"
   ]
  },
  {
   "cell_type": "code",
   "execution_count": 24,
   "metadata": {},
   "outputs": [
    {
     "name": "stdout",
     "output_type": "stream",
     "text": [
      "INFO:tensorflow:Restoring parameters from model/lenet_1509674848\n"
     ]
    },
    {
     "name": "stderr",
     "output_type": "stream",
     "text": [
      "INFO:tensorflow:Restoring parameters from model/lenet_1509674848\n"
     ]
    }
   ],
   "source": [
    "# YOUR CODE HERE\n",
    "import tensorflow as tf\n",
    "tf.reset_default_graph()\n",
    "with tf.Session() as sess:\n",
    "    saver = tf.train.import_meta_graph('model/lenet_1509674848.meta')\n",
    "    saver.restore(sess, tf.train.latest_checkpoint('model/'))\n",
    "    graph = tf.get_default_graph() \n",
    "    tf_input = graph.get_operations()[0].name+':0'\n",
    "    x = graph.get_tensor_by_name(tf_input)\n",
    "    tf_output = \"evaluate/ArgMax:0\"\n",
    "    y = graph.get_tensor_by_name(tf_output)\n",
    "    y_out = sess.run(y, feed_dict={x:x_test})"
   ]
  },
  {
   "cell_type": "code",
   "execution_count": 23,
   "metadata": {},
   "outputs": [],
   "source": [
    "# The following code snippet can be used to generate your prediction .csv file.\n",
    "\n",
    "import csv\n",
    "with open('predicted.csv','w') as csvfile:\n",
    "    fieldnames = ['Id','label']\n",
    "    writer = csv.DictWriter(csvfile, fieldnames=fieldnames)\n",
    "    writer.writeheader()    \n",
    "    for index,l in enumerate(y_out):\n",
    "        filename = str(index)+'.png'\n",
    "        label = str(l)\n",
    "        writer.writerow({'Id': filename, 'label': label})"
   ]
  },
  {
   "cell_type": "code",
   "execution_count": null,
   "metadata": {},
   "outputs": [],
   "source": []
  }
 ],
 "metadata": {
  "kernelspec": {
   "display_name": "Python 3",
   "language": "python",
   "name": "python3"
  },
  "language_info": {
   "codemirror_mode": {
    "name": "ipython",
    "version": 3
   },
   "file_extension": ".py",
   "mimetype": "text/x-python",
   "name": "python",
   "nbconvert_exporter": "python",
   "pygments_lexer": "ipython3",
   "version": "3.5.2+"
  }
 },
 "nbformat": 4,
 "nbformat_minor": 2
}
